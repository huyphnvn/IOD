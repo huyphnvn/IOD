{
 "cells": [
  {
   "cell_type": "markdown",
   "metadata": {
    "id": "fpsJ8d42XWua"
   },
   "source": [
    "<div>\n",
    "<img src=https://www.institutedata.com/wp-content/uploads/2019/10/iod_h_tp_primary_c.svg width=\"300\">\n",
    "</div>"
   ]
  },
  {
   "cell_type": "markdown",
   "metadata": {
    "id": "CSHa05-1XWub"
   },
   "source": [
    "# Lab 4.1.2 Linear Regression"
   ]
  },
  {
   "cell_type": "markdown",
   "metadata": {
    "id": "lZ0RQEDgXWuc"
   },
   "source": [
    "## Prediction of House Price Using Linear Regression"
   ]
  },
  {
   "cell_type": "markdown",
   "metadata": {
    "id": "96_GqGXCXWud"
   },
   "source": [
    "### Data\n",
    "\n",
    "The Sacramento real estate transactions file is a list of 985 real estate transactions in the Sacramento area reported over a five-day period, as reported by the Sacramento Bee."
   ]
  },
  {
   "cell_type": "code",
   "execution_count": 15,
   "metadata": {
    "id": "l1leeqkAXWug",
    "tags": []
   },
   "outputs": [],
   "source": [
    "import pandas as pd\n",
    "import numpy as np\n",
    "import seaborn as sns\n",
    "import matplotlib.pyplot as plt\n",
    "\n",
    "%matplotlib inline"
   ]
  },
  {
   "cell_type": "markdown",
   "metadata": {
    "id": "S0zFU75NXWuj"
   },
   "source": [
    "### 1. Explore Data"
   ]
  },
  {
   "cell_type": "markdown",
   "metadata": {
    "id": "kaShnXBCXWuk"
   },
   "source": [
    "Perform EDA on this dataset. Find Dependent and Independent Variables to predict house price."
   ]
  },
  {
   "cell_type": "code",
   "execution_count": 5,
   "metadata": {
    "id": "oj3kd7vqXWul",
    "tags": []
   },
   "outputs": [],
   "source": [
    "# Read CSV\n",
    "house_csv = pd.read_csv(\"../../DATA/Sacramento_transactions.csv\")"
   ]
  },
  {
   "cell_type": "markdown",
   "metadata": {
    "id": "kQ_sd0-VXWuo"
   },
   "source": [
    "### 2. Predict Price"
   ]
  },
  {
   "cell_type": "markdown",
   "metadata": {
    "id": "BsxIS3qqXWuq"
   },
   "source": [
    "We are going to predict `price` from available information."
   ]
  },
  {
   "cell_type": "markdown",
   "metadata": {
    "id": "l9DkEfzHXWur"
   },
   "source": [
    "#### 2.1 What is the Target Variable? Why?"
   ]
  },
  {
   "cell_type": "code",
   "execution_count": 6,
   "metadata": {
    "tags": []
   },
   "outputs": [
    {
     "data": {
      "text/html": [
       "<div>\n",
       "<style scoped>\n",
       "    .dataframe tbody tr th:only-of-type {\n",
       "        vertical-align: middle;\n",
       "    }\n",
       "\n",
       "    .dataframe tbody tr th {\n",
       "        vertical-align: top;\n",
       "    }\n",
       "\n",
       "    .dataframe thead th {\n",
       "        text-align: right;\n",
       "    }\n",
       "</style>\n",
       "<table border=\"1\" class=\"dataframe\">\n",
       "  <thead>\n",
       "    <tr style=\"text-align: right;\">\n",
       "      <th></th>\n",
       "      <th>street</th>\n",
       "      <th>city</th>\n",
       "      <th>zip</th>\n",
       "      <th>state</th>\n",
       "      <th>beds</th>\n",
       "      <th>baths</th>\n",
       "      <th>sq__ft</th>\n",
       "      <th>type</th>\n",
       "      <th>sale_date</th>\n",
       "      <th>price</th>\n",
       "      <th>latitude</th>\n",
       "      <th>longitude</th>\n",
       "    </tr>\n",
       "  </thead>\n",
       "  <tbody>\n",
       "    <tr>\n",
       "      <th>0</th>\n",
       "      <td>3526 HIGH ST</td>\n",
       "      <td>SACRAMENTO</td>\n",
       "      <td>95838</td>\n",
       "      <td>CA</td>\n",
       "      <td>2</td>\n",
       "      <td>1</td>\n",
       "      <td>836</td>\n",
       "      <td>Residential</td>\n",
       "      <td>Wed May 21 00:00:00 EDT 2008</td>\n",
       "      <td>59222</td>\n",
       "      <td>38.631913</td>\n",
       "      <td>-121.434879</td>\n",
       "    </tr>\n",
       "    <tr>\n",
       "      <th>1</th>\n",
       "      <td>51 OMAHA CT</td>\n",
       "      <td>SACRAMENTO</td>\n",
       "      <td>95823</td>\n",
       "      <td>CA</td>\n",
       "      <td>3</td>\n",
       "      <td>1</td>\n",
       "      <td>1167</td>\n",
       "      <td>Residential</td>\n",
       "      <td>Wed May 21 00:00:00 EDT 2008</td>\n",
       "      <td>68212</td>\n",
       "      <td>38.478902</td>\n",
       "      <td>-121.431028</td>\n",
       "    </tr>\n",
       "    <tr>\n",
       "      <th>2</th>\n",
       "      <td>2796 BRANCH ST</td>\n",
       "      <td>SACRAMENTO</td>\n",
       "      <td>95815</td>\n",
       "      <td>CA</td>\n",
       "      <td>2</td>\n",
       "      <td>1</td>\n",
       "      <td>796</td>\n",
       "      <td>Residential</td>\n",
       "      <td>Wed May 21 00:00:00 EDT 2008</td>\n",
       "      <td>68880</td>\n",
       "      <td>38.618305</td>\n",
       "      <td>-121.443839</td>\n",
       "    </tr>\n",
       "    <tr>\n",
       "      <th>3</th>\n",
       "      <td>2805 JANETTE WAY</td>\n",
       "      <td>SACRAMENTO</td>\n",
       "      <td>95815</td>\n",
       "      <td>CA</td>\n",
       "      <td>2</td>\n",
       "      <td>1</td>\n",
       "      <td>852</td>\n",
       "      <td>Residential</td>\n",
       "      <td>Wed May 21 00:00:00 EDT 2008</td>\n",
       "      <td>69307</td>\n",
       "      <td>38.616835</td>\n",
       "      <td>-121.439146</td>\n",
       "    </tr>\n",
       "    <tr>\n",
       "      <th>4</th>\n",
       "      <td>6001 MCMAHON DR</td>\n",
       "      <td>SACRAMENTO</td>\n",
       "      <td>95824</td>\n",
       "      <td>CA</td>\n",
       "      <td>2</td>\n",
       "      <td>1</td>\n",
       "      <td>797</td>\n",
       "      <td>Residential</td>\n",
       "      <td>Wed May 21 00:00:00 EDT 2008</td>\n",
       "      <td>81900</td>\n",
       "      <td>38.519470</td>\n",
       "      <td>-121.435768</td>\n",
       "    </tr>\n",
       "  </tbody>\n",
       "</table>\n",
       "</div>"
      ],
      "text/plain": [
       "             street        city    zip state  beds  baths  sq__ft  \\\n",
       "0      3526 HIGH ST  SACRAMENTO  95838    CA     2      1     836   \n",
       "1       51 OMAHA CT  SACRAMENTO  95823    CA     3      1    1167   \n",
       "2    2796 BRANCH ST  SACRAMENTO  95815    CA     2      1     796   \n",
       "3  2805 JANETTE WAY  SACRAMENTO  95815    CA     2      1     852   \n",
       "4   6001 MCMAHON DR  SACRAMENTO  95824    CA     2      1     797   \n",
       "\n",
       "          type                     sale_date  price   latitude   longitude  \n",
       "0  Residential  Wed May 21 00:00:00 EDT 2008  59222  38.631913 -121.434879  \n",
       "1  Residential  Wed May 21 00:00:00 EDT 2008  68212  38.478902 -121.431028  \n",
       "2  Residential  Wed May 21 00:00:00 EDT 2008  68880  38.618305 -121.443839  \n",
       "3  Residential  Wed May 21 00:00:00 EDT 2008  69307  38.616835 -121.439146  \n",
       "4  Residential  Wed May 21 00:00:00 EDT 2008  81900  38.519470 -121.435768  "
      ]
     },
     "execution_count": 6,
     "metadata": {},
     "output_type": "execute_result"
    }
   ],
   "source": [
    "house_csv.head()"
   ]
  },
  {
   "cell_type": "markdown",
   "metadata": {
    "id": "HGONOtfFXWut"
   },
   "source": [
    "ANSWER\n",
    "\n",
    "The target variable is 'price' as it is the feature we want to get prediction for."
   ]
  },
  {
   "cell_type": "markdown",
   "metadata": {
    "id": "MDAu8eeXXWuz"
   },
   "source": [
    "#### 2.2 List all possible variables which might be Independent/Predictor variable."
   ]
  },
  {
   "cell_type": "markdown",
   "metadata": {
    "id": "PEDRGP1EXWu1"
   },
   "source": [
    "ANSWER\n",
    "\n",
    "All possible features that can be used as independent variables/predictors:\n",
    "- beds\n",
    "- baths\n",
    "- sq_ft\n",
    "- type\n",
    "- sale_date\n",
    "- latitude\n",
    "- longitude"
   ]
  },
  {
   "cell_type": "markdown",
   "metadata": {
    "id": "w9x9iKhcXWu4"
   },
   "source": [
    "#### 2.3 Find correlation between variables\n",
    "\n",
    "Find correlation between variables. Which is the best predictor? Why? State your reason."
   ]
  },
  {
   "cell_type": "code",
   "execution_count": 11,
   "metadata": {
    "id": "5OZ6kJeyXWu5",
    "tags": []
   },
   "outputs": [
    {
     "data": {
      "text/html": [
       "<div>\n",
       "<style scoped>\n",
       "    .dataframe tbody tr th:only-of-type {\n",
       "        vertical-align: middle;\n",
       "    }\n",
       "\n",
       "    .dataframe tbody tr th {\n",
       "        vertical-align: top;\n",
       "    }\n",
       "\n",
       "    .dataframe thead th {\n",
       "        text-align: right;\n",
       "    }\n",
       "</style>\n",
       "<table border=\"1\" class=\"dataframe\">\n",
       "  <thead>\n",
       "    <tr style=\"text-align: right;\">\n",
       "      <th></th>\n",
       "      <th>beds</th>\n",
       "      <th>baths</th>\n",
       "      <th>sq__ft</th>\n",
       "    </tr>\n",
       "  </thead>\n",
       "  <tbody>\n",
       "    <tr>\n",
       "      <th>beds</th>\n",
       "      <td>1.000000</td>\n",
       "      <td>0.83965</td>\n",
       "      <td>0.684041</td>\n",
       "    </tr>\n",
       "    <tr>\n",
       "      <th>baths</th>\n",
       "      <td>0.839650</td>\n",
       "      <td>1.00000</td>\n",
       "      <td>0.665690</td>\n",
       "    </tr>\n",
       "    <tr>\n",
       "      <th>sq__ft</th>\n",
       "      <td>0.684041</td>\n",
       "      <td>0.66569</td>\n",
       "      <td>1.000000</td>\n",
       "    </tr>\n",
       "  </tbody>\n",
       "</table>\n",
       "</div>"
      ],
      "text/plain": [
       "            beds    baths    sq__ft\n",
       "beds    1.000000  0.83965  0.684041\n",
       "baths   0.839650  1.00000  0.665690\n",
       "sq__ft  0.684041  0.66569  1.000000"
      ]
     },
     "execution_count": 11,
     "metadata": {},
     "output_type": "execute_result"
    }
   ],
   "source": [
    "# ANSWER\n",
    "# For this lab, I'd like to use only 3 predictors: beds, baths, and sq_ft\n",
    "corr = house_csv.loc[:, ['beds', 'baths', 'sq__ft']].corr()\n",
    "corr"
   ]
  },
  {
   "cell_type": "code",
   "execution_count": 28,
   "metadata": {
    "tags": []
   },
   "outputs": [
    {
     "name": "stderr",
     "output_type": "stream",
     "text": [
      "D:\\anaconda3\\Lib\\site-packages\\seaborn\\matrix.py:260: FutureWarning: Format strings passed to MaskedConstant are ignored, but in future may error or produce different behavior\n",
      "  annotation = (\"{:\" + self.fmt + \"}\").format(val)\n"
     ]
    },
    {
     "data": {
      "text/plain": [
       "<Axes: >"
      ]
     },
     "execution_count": 28,
     "metadata": {},
     "output_type": "execute_result"
    },
    {
     "data": {
      "image/png": "[encoded data removed]",
      "text/plain": [
       "<Figure size 640x480 with 2 Axes>"
      ]
     },
     "metadata": {},
     "output_type": "display_data"
    }
   ],
   "source": [
    "# Creating an array with upper triangle of the array having values of 'True', and lower triangle having 'False'\n",
    "mask = np.tril(np.ones_like(corr, dtype=bool))\n",
    "\n",
    "# Create a custom color map\n",
    "cmap = sns.diverging_palette(230, 20, as_cmap=True)\n",
    "\n",
    "# Visualing the correlatin matrix using heatmap\n",
    "sns.heatmap(corr, cmap=cmap, mask=~mask, vmax=1, vmin=-1, annot=True, square=False, annot_kws={\"size\": 10})"
   ]
  },
  {
   "cell_type": "markdown",
   "metadata": {
    "id": "tgWfh5snXWu8"
   },
   "source": [
    "#### 2.4 Find Coefficient and Intercept using Linear Regression\n",
    "\n",
    "Using LinearRegression of sklearn.linear_model package find Coefficient and Intercept.\n",
    "\n",
    "Create an instance of LinearRegression.\n",
    "\n",
    "Explore following methods:\n",
    "\n",
    "- fit\n",
    "- predict\n",
    "- score"
   ]
  },
  {
   "cell_type": "code",
   "execution_count": 29,
   "metadata": {
    "id": "SbiQavKvXWu9",
    "tags": []
   },
   "outputs": [],
   "source": [
    "from sklearn.linear_model import LinearRegression"
   ]
  },
  {
   "cell_type": "markdown",
   "metadata": {
    "id": "lVWhSV7BXWu_"
   },
   "source": [
    "##### 2.4.1 Fit predictor and target variables using linear regression "
   ]
  },
  {
   "cell_type": "code",
   "execution_count": 55,
   "metadata": {
    "id": "6cplIG9RXWvA",
    "tags": []
   },
   "outputs": [
    {
     "data": {
      "text/plain": [
       "array([208206.78418661, 226133.29392351, 206040.43859907, 209073.32242163,\n",
       "       206094.59723876, 223696.15513753, 222721.29962314, 226674.8803204 ,\n",
       "       213893.44135391, 224995.96249005, 212160.36488387, 232740.64796551,\n",
       "       210102.33657571, 218171.9738893 , 218280.29116868, 224346.05881379,\n",
       "       208640.05330412, 205986.27995938, 194775.44154385, 236369.27682465,\n",
       "       223479.52057878, 234906.99355306, 230086.87462078, 249638.14354834,\n",
       "       211727.09576636, 221854.76138812, 215084.93142705, 223533.67921846,\n",
       "       237669.08417717, 230520.14373828, 219200.98804338, 225320.91432819,\n",
       "       237669.08417717, 223371.2032994 , 219200.98804338, 239727.11248533,\n",
       "       221529.80954999, 242651.67902852, 224995.96249005, 204090.72757028,\n",
       "       233553.02756084, 228299.63951105, 220121.68491809, 219417.62260214,\n",
       "       248879.9225927 , 223587.83785815, 248500.81211488, 268810.30199808,\n",
       "       252616.8687312 , 242922.47222696, 227270.62535697, 249042.39851176,\n",
       "       242164.25127132, 255758.06983314, 227108.14943791, 239077.20880907,\n",
       "       268160.39832181, 226404.08712196, 225320.91432819, 263177.80347047,\n",
       "       228732.90862856, 224129.42425504, 249746.46082771, 243030.78950633,\n",
       "       239835.42976471, 232253.22020832, 248825.76395301, 236694.22866278,\n",
       "       280021.1404136 , 231494.99925268, 255812.22847283, 261498.88564012,\n",
       "       213622.64815546, 162930.161407  , 244763.86597637, 249042.39851176,\n",
       "       249367.35034989, 235556.89722932, 278613.0157817 , 250450.52314366,\n",
       "       242976.63086665, 232632.33068614, 232090.74428925, 241351.87167599,\n",
       "       283974.72111086, 276284.19427509, 227541.41855541, 280075.29905329,\n",
       "       231657.47517174, 162930.161407  , 214814.13822861, 298760.02974583,\n",
       "       233607.18620053, 249096.55715145, 234744.51763399, 262744.53435296,\n",
       "       266968.90824867, 314032.766138  , 246388.62516702, 218063.65660992,\n",
       "       162930.161407  , 253483.40696622, 237669.08417717, 215734.83510332,\n",
       "       291394.45474819, 241243.55439661, 232469.85476707, 325893.50822979,\n",
       "       358551.16796197, 274280.32460662, 270868.33030624, 263502.7553086 ,\n",
       "       223912.78969628, 282783.23103772, 298001.80879019, 262744.53435296,\n",
       "       245251.29373356, 314574.35253488, 287982.46044782, 291123.66154975,\n",
       "       353351.93855187, 162930.161407  , 266589.79777085, 254458.26248061,\n",
       "       310512.45455824, 290419.5992338 , 162930.161407  , 281266.78912644,\n",
       "       260469.87148604, 269135.25383621, 332663.33819085, 266643.95641053,\n",
       "       162930.161407  , 162930.161407  , 310999.88231544, 277204.8911498 ,\n",
       "       334288.09738151, 357847.10564602, 274172.00732724, 262040.47203701,\n",
       "       251046.26818024, 349235.88193554, 317065.64996056, 290690.39243224,\n",
       "       274063.69004786, 348856.77145772, 358713.64388104, 162930.161407  ,\n",
       "       308454.42625008, 310458.29591856, 349235.88193554, 352918.66943436,\n",
       "       296268.73232016, 162930.161407  , 162930.161407  , 162930.161407  ,\n",
       "       288848.99868283, 162930.161407  , 205986.27995938, 222450.50642469,\n",
       "       208423.41874536, 206257.07315782, 203332.50661464, 220717.42995466,\n",
       "       234202.9312371 , 235340.26267056, 209939.86065664, 212972.7444792 ,\n",
       "       195966.931617  , 162930.161407  , 229003.70182701, 202032.69926212,\n",
       "       251912.80641525, 202032.69926212, 221421.49227061, 219200.98804338,\n",
       "       219850.89171964, 215301.56598581, 222396.347785  , 219796.73307996,\n",
       "       223046.25146127, 211023.03345041, 223587.83785815, 221421.49227061,\n",
       "       214759.97958892, 214489.18639048, 228516.27406981, 231386.6819733 ,\n",
       "       221421.49227061, 231494.99925268, 216763.8492574 , 228028.84631261,\n",
       "       162930.161407  , 202032.69926212, 241351.87167599, 227270.62535697,\n",
       "       226999.83215853, 234419.56579586, 223425.36193909, 236802.54594215,\n",
       "       233877.97939897, 217413.75293366, 222721.29962314, 206798.65955471,\n",
       "       223750.31377722, 211889.57168543, 225537.54888694, 234473.72443555,\n",
       "       238318.98785343, 240864.44391879, 225700.024806  , 253429.24832653,\n",
       "       257166.19446504, 231440.84061299, 217467.91157335, 255866.38711252,\n",
       "       254187.46928217, 261986.31339732, 247146.84612266, 223587.83785815,\n",
       "       224508.53473286, 226512.40440133, 238373.14649312, 162930.161407  ,\n",
       "       162930.161407  , 232740.64796551, 260361.55420666, 162930.161407  ,\n",
       "       268701.9847187 , 202086.85790181, 162930.161407  , 214272.55183172,\n",
       "       248392.4948355 , 234257.08987679, 162930.161407  , 236585.9113834 ,\n",
       "       162930.161407  , 245359.61101294, 257761.93950162, 242272.5685507 ,\n",
       "       249854.77810709, 242814.15494758, 228787.06726825, 234148.77259742,\n",
       "       247796.74979893, 259115.90549383, 281375.10640581, 232848.96524489,\n",
       "       162930.161407  , 162930.161407  , 244330.59685886, 297839.33287113,\n",
       "       231657.47517174, 162930.161407  , 226620.72168071, 241785.1407935 ,\n",
       "       244059.80366042, 248175.86027675, 275850.92515758, 280454.40953111,\n",
       "       249313.1917102 , 247796.74979893, 162930.161407  , 230790.93693673,\n",
       "       258682.63637632, 162930.161407  , 272872.19997472, 245847.03877014,\n",
       "       162930.161407  , 252454.39281214, 274280.32460662, 298001.80879019,\n",
       "       241460.18895537, 280400.25089142, 240918.60255848, 245630.40421138,\n",
       "       238806.41561063, 239348.00200751, 162930.161407  , 162930.161407  ,\n",
       "       232469.85476707, 287874.14316844, 234906.99355306, 266373.16321209,\n",
       "       270218.42662998, 162930.161407  , 162930.161407  , 162930.161407  ,\n",
       "       282349.96192021, 241406.03031568, 231061.73013517, 302388.65860496,\n",
       "       192121.66819912, 282512.43783927, 222937.93418189, 249313.1917102 ,\n",
       "       279858.66449454, 287224.23949218, 262473.74115452, 265831.57681521,\n",
       "       255974.70439189, 346473.79131143, 162930.161407  , 339487.32679161,\n",
       "       272113.97901908, 304121.735075  , 310458.29591856, 365808.42568023,\n",
       "       162930.161407  , 335804.53929279, 162930.161407  , 162930.161407  ,\n",
       "       162930.161407  , 230465.9850986 , 302713.6104431 , 274930.22828288,\n",
       "       162930.161407  , 379131.45104361, 346907.06042894, 373119.84203819,\n",
       "       162930.161407  , 249475.66762927, 267402.17736617, 329197.18525079,\n",
       "       162930.161407  , 162930.161407  , 162930.161407  , 162930.161407  ,\n",
       "       378698.1819261 , 283270.65879491, 370791.02053158, 162930.161407  ,\n",
       "       317065.64996056, 297460.22239331, 250883.79226117, 208423.41874536,\n",
       "       189142.94301625, 215464.04190487, 196670.99393295, 213406.01359671,\n",
       "       206040.43859907, 208098.46690723, 208098.46690723, 212972.7444792 ,\n",
       "       205986.27995938, 230628.46101766, 216222.26286051, 217792.86341148,\n",
       "       217738.70477179, 205986.27995938, 212647.79264107, 221529.80954999,\n",
       "       215139.09006674, 238968.89152969, 196779.31121233, 211023.03345041,\n",
       "       223587.83785815, 235015.31083243, 217847.02205117, 241351.87167599,\n",
       "       215247.40734612, 205119.74172436, 208206.78418661, 222504.66506438,\n",
       "       226512.40440133, 228299.63951105, 270976.64758562, 206473.70771658,\n",
       "       214814.13822861, 236910.86322153, 211727.09576636, 200624.57463022,\n",
       "       221421.49227061, 222721.29962314, 215572.35918425, 238210.67057406,\n",
       "       236260.95954527, 205986.27995938, 205173.90036405, 248879.9225927 ,\n",
       "       228407.95679043, 224616.85201223, 254458.26248061, 230357.66781922,\n",
       "       239618.79520596, 233336.39300209, 223587.83785815, 249042.39851176,\n",
       "       239131.36744876, 245034.65917481, 162930.161407  , 252075.28233432,\n",
       "       253700.04152498, 237127.49778028, 237127.49778028, 236098.4836262 ,\n",
       "       225320.91432819, 241568.50623474, 216547.21469864, 225862.50072507,\n",
       "       226945.67351884, 223154.56874064, 222504.66506438, 232253.22020832,\n",
       "       232253.22020832, 219200.98804338, 225700.024806  , 266752.27368991,\n",
       "       245251.29373356, 228137.16359199, 223587.83785815, 240701.96799973,\n",
       "       241514.34759506, 251642.01321681, 217088.80109553, 225320.91432819,\n",
       "       225429.23160756, 236206.80090558, 234906.99355306, 236369.27682465,\n",
       "       244438.91413824, 217576.22885273, 224887.64521068, 213297.69631733,\n",
       "       258574.31909694, 267997.92240275, 259115.90549383, 231061.73013517,\n",
       "       264315.13490393, 223154.56874064, 263448.59666891, 267943.76376306,\n",
       "       216980.48381615, 258141.04997943, 278937.96761983, 214380.8691111 ,\n",
       "       257112.03582535, 245034.65917481, 216438.89741927, 247146.84612266,\n",
       "       228570.4327095 , 264260.97626424, 233444.71028146, 203874.09301153,\n",
       "       272655.56541596, 237398.29097873, 230628.46101766, 220230.00219746,\n",
       "       227216.46671728, 234636.20035461, 267781.28784399, 291936.04114508,\n",
       "       240214.54024253, 253808.35880435, 260307.39556698, 306558.87386098,\n",
       "       261282.25108137, 329522.13708892, 262798.69299265, 233661.34484022,\n",
       "       295456.35272483, 226620.72168071, 226945.67351884, 225754.18344569,\n",
       "       240052.06432347, 248175.86027675, 262040.47203701, 256299.65623002,\n",
       "       230899.2542161 , 162930.161407  , 280725.20272955, 266048.21137396,\n",
       "       260848.98196386, 309754.2336026 , 255703.91119345, 241839.29943319,\n",
       "       310458.29591856, 162930.161407  , 242435.04446976, 301034.69261275,\n",
       "       267348.01872649, 267023.06688835, 235665.21450869, 244709.70733668,\n",
       "       214922.45550799, 247363.48068142, 250883.79226117, 324972.81135508,\n",
       "       277150.73251011, 245467.92829232, 230520.14373828, 264531.76946268,\n",
       "       162930.161407  , 263177.80347047, 162930.161407  , 283054.02423616,\n",
       "       238427.30513281, 239293.84336783, 350752.32384682, 289986.33011629,\n",
       "       290040.48875598, 252779.34465027, 295185.55952639, 162930.161407  ,\n",
       "       279642.02993578, 162930.161407  , 260957.29924324, 313978.60749831,\n",
       "       249908.93674678, 162930.161407  , 280237.77497236, 162930.161407  ,\n",
       "       264260.97626424, 260415.71284635, 254079.1520028 , 162930.161407  ,\n",
       "       162930.161407  , 249367.35034989, 162930.161407  , 226783.19759978,\n",
       "       162930.161407  , 251696.1718565 , 340624.65822507, 254837.37295843,\n",
       "       162930.161407  , 275850.92515758, 162930.161407  , 257382.8290238 ,\n",
       "       162930.161407  , 267943.76376306, 162930.161407  , 259765.80917009,\n",
       "       254512.4211203 , 271355.75806344, 395974.78798675, 392887.7455245 ,\n",
       "       286086.90805872, 162930.161407  , 328438.96429515, 298489.23654739,\n",
       "       162930.161407  , 162930.161407  , 266102.37001365, 234419.56579586,\n",
       "       162930.161407  , 162930.161407  , 327409.95014107, 365537.63248179,\n",
       "       306992.14297849, 344740.7148414 , 319773.58194498, 272601.40677627,\n",
       "       368083.08854715, 361692.36906391, 162930.161407  , 162930.161407  ,\n",
       "       162930.161407  , 162930.161407  , 162930.161407  , 162930.161407  ,\n",
       "       162930.161407  , 162930.161407  , 162930.161407  , 162930.161407  ,\n",
       "       162930.161407  , 162930.161407  , 162930.161407  , 162930.161407  ,\n",
       "       162930.161407  , 162930.161407  , 162930.161407  , 162930.161407  ,\n",
       "       162930.161407  , 162930.161407  , 162930.161407  , 162930.161407  ,\n",
       "       162930.161407  , 162930.161407  , 162930.161407  , 162930.161407  ,\n",
       "       162930.161407  , 162930.161407  , 162930.161407  , 162930.161407  ,\n",
       "       162930.161407  , 162930.161407  , 162930.161407  , 162930.161407  ,\n",
       "       162930.161407  , 162930.161407  , 162930.161407  , 162930.161407  ,\n",
       "       162930.161407  , 162930.161407  , 162930.161407  , 162930.161407  ,\n",
       "       162930.161407  , 162930.161407  , 162930.161407  , 162930.161407  ,\n",
       "       162930.161407  , 162930.161407  , 162930.161407  , 226079.13528382,\n",
       "       162930.161407  , 208315.10146599, 211889.57168543, 218821.87756556,\n",
       "       211889.57168543, 221421.49227061, 216547.21469864, 211672.93712668,\n",
       "       209560.75017882, 211997.88896481, 217684.5461321 , 221908.92002781,\n",
       "       207990.14962786, 206257.07315782, 232903.12388458, 206798.65955471,\n",
       "       220554.95403559, 212268.68216325, 208748.37058349, 234419.56579586,\n",
       "       239293.84336783, 223317.04465971, 226241.61120289, 225970.81800445,\n",
       "       235556.89722932, 228949.54318732, 223966.94833597, 231819.95109081,\n",
       "       230790.93693673, 223587.83785815, 223479.52057878, 265289.99041832,\n",
       "       231170.04741455, 238752.25697094, 231386.6819733 , 220338.31947684,\n",
       "       224237.74153441, 242326.72719038, 222071.39594687, 251100.42681993,\n",
       "       214922.45550799, 221150.69907217, 240268.69888222, 236477.59410402,\n",
       "       296972.79463611, 239293.84336783, 255595.59391407, 243247.42406509,\n",
       "       224671.01065192, 246821.89428453, 239293.84336783, 230086.87462078,\n",
       "       255649.75255376, 248500.81211488, 253320.93104716, 218659.4016465 ,\n",
       "       222667.14098345, 279966.98177391, 252291.91689307, 234419.56579586,\n",
       "       227920.52903323, 226295.76984258, 227866.37039355, 254729.05567906,\n",
       "       225591.70752663, 239293.84336783, 226512.40440133, 249204.87443083,\n",
       "       222125.55458656, 258790.9536557 , 240701.96799973, 223804.47241691,\n",
       "       224616.85201223, 251642.01321681, 234852.83491337, 231874.1097305 ,\n",
       "       221529.80954999, 248392.4948355 , 206040.43859907, 237994.0360153 ,\n",
       "       241568.50623474, 244872.18325574, 162930.161407  , 248392.4948355 ,\n",
       "       256949.55990629, 162930.161407  , 242705.8376682 , 225212.59704881,\n",
       "       223966.94833597, 224887.64521068, 215572.35918425, 287819.98452875,\n",
       "       243030.78950633, 219255.14668307, 240377.0161616 , 260415.71284635,\n",
       "       268701.9847187 , 223587.83785815, 229653.60550327, 216222.26286051,\n",
       "       162930.161407  , 289065.63324159, 236098.4836262 , 162930.161407  ,\n",
       "       237452.44961842, 233336.39300209, 247742.59115924, 223317.04465971,\n",
       "       218821.87756556, 239781.27112502, 231224.20605424, 251587.85457712,\n",
       "       259115.90549383, 235394.42131025, 162930.161407  , 285003.73526495,\n",
       "       240972.76119817, 270760.01302686, 278071.42938481, 222179.71322625,\n",
       "       242110.09263163, 285220.3698237 , 221096.54043248, 277259.04978949,\n",
       "       254241.62792186, 266643.95641053, 291123.66154975, 269189.4124759 ,\n",
       "       239077.20880907, 259819.96780978, 264531.76946268, 229816.08142233,\n",
       "       298543.39518708, 162930.161407  , 253700.04152498, 236965.02186122,\n",
       "       265777.41817552, 251533.69593743, 261932.15475763, 162930.161407  ,\n",
       "       240810.2852791 , 241514.34759506, 245251.29373356, 244493.07277793,\n",
       "       304013.41779562, 227703.89447448, 250721.31634211, 261011.45788293,\n",
       "       246334.46652734, 162930.161407  , 162930.161407  , 162930.161407  ,\n",
       "       162930.161407  , 162930.161407  , 246496.9424464 , 298001.80879019,\n",
       "       252291.91689307, 282837.3896774 , 286411.85989685, 241081.07847755,\n",
       "       248609.12939425, 263502.7553086 , 256895.4012666 , 276446.67019416,\n",
       "       256083.02167127, 279912.82313422, 237777.40145655, 162930.161407  ,\n",
       "       256137.18031096, 234852.83491337, 162930.161407  , 270272.58526967,\n",
       "       224887.64521068, 250829.63362148, 241839.29943319, 301305.48581119,\n",
       "       248338.33619581, 303309.35547967, 238806.41561063, 162930.161407  ,\n",
       "       244276.43821917, 234798.67627368, 260415.71284635, 280400.25089142,\n",
       "       295997.93912172, 162930.161407  , 271464.07534281, 282729.07239803,\n",
       "       332663.33819085, 236585.9113834 , 162930.161407  , 232036.58564956,\n",
       "       323348.05216443, 265181.67313894, 162930.161407  , 162930.161407  ,\n",
       "       246767.73564484, 162930.161407  , 277150.73251011, 297460.22239331,\n",
       "       285220.3698237 , 282729.07239803, 250450.52314366, 291394.45474819,\n",
       "       304067.57643531, 162930.161407  , 318744.5677909 , 323239.73488505,\n",
       "       162930.161407  , 280562.72681049, 276663.30475291, 260144.91964791,\n",
       "       162930.161407  , 287224.23949218, 302496.97588434, 162930.161407  ,\n",
       "       256462.13214909, 243355.74134447, 252562.71009152, 162930.161407  ,\n",
       "       162930.161407  , 273901.2141288 , 162930.161407  , 318636.25051152,\n",
       "       162930.161407  , 282025.01008208, 162930.161407  , 233553.02756084,\n",
       "       289336.42644003, 286303.54261747, 243789.01046197, 162930.161407  ,\n",
       "       162930.161407  , 162930.161407  , 313870.29021893, 315874.15988741,\n",
       "       339541.4854313 , 274117.84868755, 291773.56522601, 162930.161407  ,\n",
       "       162930.161407  , 162930.161407  , 162930.161407  , 162930.161407  ,\n",
       "       162930.161407  , 334775.52513871, 162930.161407  , 235936.00770714,\n",
       "       162930.161407  , 230736.77829704, 337808.40896126, 372144.98652379,\n",
       "       162930.161407  , 162930.161407  , 290527.91651318, 162930.161407  ,\n",
       "       356763.93285225, 162930.161407  , 162930.161407  , 162930.161407  ,\n",
       "       401228.17603653, 162930.161407  , 478241.76167362, 244818.02461606,\n",
       "       196021.09025669, 210373.12977415, 213460.1722364 , 209723.22609789,\n",
       "       217684.5461321 , 225645.86616632, 222071.39594687, 214705.82094923,\n",
       "       224616.85201223, 220230.00219746, 219255.14668307, 236260.95954527,\n",
       "       219850.89171964, 199866.35367458, 225808.34208538, 217305.43565428,\n",
       "       229491.1295842 , 230574.30237797, 225808.34208538, 217630.38749241,\n",
       "       162930.161407  , 242110.09263163, 231657.47517174, 227270.62535697,\n",
       "       247959.22571799, 222125.55458656, 215030.77278736, 221908.92002781,\n",
       "       223966.94833597, 233823.82075928, 215464.04190487, 224887.64521068,\n",
       "       217088.80109553, 162930.161407  , 228245.48087137, 232524.01340676,\n",
       "       246496.9424464 , 210806.39889166, 218117.81524961, 238318.98785343,\n",
       "       212972.7444792 , 228841.22590794, 253375.08968684, 233444.71028146,\n",
       "       243518.21726353, 237289.97369935, 237723.24281686, 231440.84061299,\n",
       "       210643.92297259, 162930.161407  , 250017.25402616, 235719.37314838,\n",
       "       228028.84631261, 222721.29962314, 162930.161407  , 263611.07258798,\n",
       "       229653.60550327, 251642.01321681, 226674.8803204 , 248609.12939425,\n",
       "       211889.57168543, 235502.73858963, 228137.16359199, 242922.47222696,\n",
       "       244005.64502073, 214922.45550799, 162930.161407  , 240268.69888222,\n",
       "       219200.98804338, 245738.72149076, 265398.3076977 , 265127.51449926,\n",
       "       233011.44116396, 251642.01321681, 253754.20016466, 221042.38179279,\n",
       "       229599.44686358, 226566.56304102, 239618.79520596, 162930.161407  ,\n",
       "       236477.59410402, 250071.41266584, 269514.36431403, 221908.92002781,\n",
       "       233119.75844333, 227324.78399666, 205986.27995938, 237181.65641997,\n",
       "       233877.97939897, 231278.36469392, 257166.19446504, 245088.8178145 ,\n",
       "       241460.18895537, 239618.79520596, 211023.03345041, 264856.72130081,\n",
       "       233444.71028146, 239727.11248533, 162930.161407  , 234365.40715617,\n",
       "       258790.9536557 , 251046.26818024, 162930.161407  , 219255.14668307,\n",
       "       214922.45550799, 162930.161407  , 241785.1407935 , 241460.18895537,\n",
       "       236477.59410402, 234906.99355306, 255812.22847283, 231278.36469392,\n",
       "       286411.85989685, 242922.47222696, 228787.06726825, 254187.46928217,\n",
       "       236694.22866278])"
      ]
     },
     "execution_count": 55,
     "metadata": {},
     "output_type": "execute_result"
    }
   ],
   "source": [
    "# ANSWER\n",
    "\n",
    "X = house_csv[['sq__ft']]\n",
    "y = house_csv['price']\n",
    "\n",
    "# Create Linear Regression model\n",
    "lireg = LinearRegression()\n",
    "\n",
    "# Fit the model\n",
    "lireg.fit(X, y)\n",
    "\n",
    "# Predict using the model\n",
    "y_hat = lireg.predict(X)\n",
    "y_hat"
   ]
  },
  {
   "cell_type": "markdown",
   "metadata": {
    "id": "0Qv0pyZNXWvC"
   },
   "source": [
    "##### 2.4.2 Find R Score"
   ]
  },
  {
   "cell_type": "markdown",
   "metadata": {
    "id": "j5Lix6tlXWvD"
   },
   "source": [
    "Find $R^2$ Using ```score``` method of Linear Regression."
   ]
  },
  {
   "cell_type": "code",
   "execution_count": 46,
   "metadata": {
    "id": "JrJDTlJrXWvF",
    "tags": []
   },
   "outputs": [
    {
     "data": {
      "text/plain": [
       "0.11148717682951459"
      ]
     },
     "execution_count": 46,
     "metadata": {},
     "output_type": "execute_result"
    }
   ],
   "source": [
    "# ANSWER\n",
    "lireg.score(X, y)"
   ]
  },
  {
   "cell_type": "markdown",
   "metadata": {
    "id": "BiVDrqFhXWvN"
   },
   "source": [
    "### 3. Splitting Data"
   ]
  },
  {
   "cell_type": "code",
   "execution_count": 48,
   "metadata": {
    "id": "I4tgG88GXWvQ",
    "tags": []
   },
   "outputs": [],
   "source": [
    "from sklearn.model_selection import train_test_split"
   ]
  },
  {
   "cell_type": "markdown",
   "metadata": {
    "id": "hTgSdUpwXWvW"
   },
   "source": [
    "#### 3.1 Create training and testing subsets\n",
    "\n",
    "Hint: Using `train_test_split` Library.\n",
    "\n",
    "```\n",
    "X_train, X_test, y_train, y_test = train_test_split(X, y, test_size=0.33, random_state=42)\n",
    "```"
   ]
  },
  {
   "cell_type": "code",
   "execution_count": 49,
   "metadata": {
    "id": "iYSlAV_gXWvX",
    "tags": []
   },
   "outputs": [],
   "source": [
    "# ANSWER\n",
    "## Create training and testing subsets\n",
    "X_train, X_test, y_train, y_test = train_test_split(X, y, test_size=0.20, random_state=42)"
   ]
  },
  {
   "cell_type": "markdown",
   "metadata": {
    "id": "P62hTi0IXWva"
   },
   "source": [
    "#### 3.2 Check Shape, Sample of Test Train Data"
   ]
  },
  {
   "cell_type": "code",
   "execution_count": 51,
   "metadata": {
    "id": "larfqlLQXWvb",
    "tags": []
   },
   "outputs": [
    {
     "name": "stdout",
     "output_type": "stream",
     "text": [
      "Shape of training data: (788, 1)\n",
      "\n",
      " Shape of testing data: (197, 1)\n"
     ]
    }
   ],
   "source": [
    "# ANSWER\n",
    "## Check training/test data\n",
    "print(f'Shape of training data: {X_train.shape}')\n",
    "print(f'\\n Shape of testing data: {X_test.shape}')"
   ]
  },
  {
   "cell_type": "markdown",
   "metadata": {
    "id": "FhemsdjyXWvd"
   },
   "source": [
    "#### 3.3 Using Linear Regression Find The Score\n",
    "\n",
    "1. Fit model using X_train, y_train\n",
    "2. Find score using X_test, y_test"
   ]
  },
  {
   "cell_type": "code",
   "execution_count": 53,
   "metadata": {
    "id": "yqNCjOW3XWve",
    "tags": []
   },
   "outputs": [
    {
     "data": {
      "text/html": [
       "<style>#sk-container-id-1 {color: black;}#sk-container-id-1 pre{padding: 0;}#sk-container-id-1 div.sk-toggleable {background-color: white;}#sk-container-id-1 label.sk-toggleable__label {cursor: pointer;display: block;width: 100%;margin-bottom: 0;padding: 0.3em;box-sizing: border-box;text-align: center;}#sk-container-id-1 label.sk-toggleable__label-arrow:before {content: \"▸\";float: left;margin-right: 0.25em;color: #696969;}#sk-container-id-1 label.sk-toggleable__label-arrow:hover:before {color: black;}#sk-container-id-1 div.sk-estimator:hover label.sk-toggleable__label-arrow:before {color: black;}#sk-container-id-1 div.sk-toggleable__content {max-height: 0;max-width: 0;overflow: hidden;text-align: left;background-color: #f0f8ff;}#sk-container-id-1 div.sk-toggleable__content pre {margin: 0.2em;color: black;border-radius: 0.25em;background-color: #f0f8ff;}#sk-container-id-1 input.sk-toggleable__control:checked~div.sk-toggleable__content {max-height: 200px;max-width: 100%;overflow: auto;}#sk-container-id-1 input.sk-toggleable__control:checked~label.sk-toggleable__label-arrow:before {content: \"▾\";}#sk-container-id-1 div.sk-estimator input.sk-toggleable__control:checked~label.sk-toggleable__label {background-color: #d4ebff;}#sk-container-id-1 div.sk-label input.sk-toggleable__control:checked~label.sk-toggleable__label {background-color: #d4ebff;}#sk-container-id-1 input.sk-hidden--visually {border: 0;clip: rect(1px 1px 1px 1px);clip: rect(1px, 1px, 1px, 1px);height: 1px;margin: -1px;overflow: hidden;padding: 0;position: absolute;width: 1px;}#sk-container-id-1 div.sk-estimator {font-family: monospace;background-color: #f0f8ff;border: 1px dotted black;border-radius: 0.25em;box-sizing: border-box;margin-bottom: 0.5em;}#sk-container-id-1 div.sk-estimator:hover {background-color: #d4ebff;}#sk-container-id-1 div.sk-parallel-item::after {content: \"\";width: 100%;border-bottom: 1px solid gray;flex-grow: 1;}#sk-container-id-1 div.sk-label:hover label.sk-toggleable__label {background-color: #d4ebff;}#sk-container-id-1 div.sk-serial::before {content: \"\";position: absolute;border-left: 1px solid gray;box-sizing: border-box;top: 0;bottom: 0;left: 50%;z-index: 0;}#sk-container-id-1 div.sk-serial {display: flex;flex-direction: column;align-items: center;background-color: white;padding-right: 0.2em;padding-left: 0.2em;position: relative;}#sk-container-id-1 div.sk-item {position: relative;z-index: 1;}#sk-container-id-1 div.sk-parallel {display: flex;align-items: stretch;justify-content: center;background-color: white;position: relative;}#sk-container-id-1 div.sk-item::before, #sk-container-id-1 div.sk-parallel-item::before {content: \"\";position: absolute;border-left: 1px solid gray;box-sizing: border-box;top: 0;bottom: 0;left: 50%;z-index: -1;}#sk-container-id-1 div.sk-parallel-item {display: flex;flex-direction: column;z-index: 1;position: relative;background-color: white;}#sk-container-id-1 div.sk-parallel-item:first-child::after {align-self: flex-end;width: 50%;}#sk-container-id-1 div.sk-parallel-item:last-child::after {align-self: flex-start;width: 50%;}#sk-container-id-1 div.sk-parallel-item:only-child::after {width: 0;}#sk-container-id-1 div.sk-dashed-wrapped {border: 1px dashed gray;margin: 0 0.4em 0.5em 0.4em;box-sizing: border-box;padding-bottom: 0.4em;background-color: white;}#sk-container-id-1 div.sk-label label {font-family: monospace;font-weight: bold;display: inline-block;line-height: 1.2em;}#sk-container-id-1 div.sk-label-container {text-align: center;}#sk-container-id-1 div.sk-container {/* jupyter's `normalize.less` sets `[hidden] { display: none; }` but bootstrap.min.css set `[hidden] { display: none !important; }` so we also need the `!important` here to be able to override the default hidden behavior on the sphinx rendered scikit-learn.org. See: https://github.com/scikit-learn/scikit-learn/issues/21755 */display: inline-block !important;position: relative;}#sk-container-id-1 div.sk-text-repr-fallback {display: none;}</style><div id=\"sk-container-id-1\" class=\"sk-top-container\"><div class=\"sk-text-repr-fallback\"><pre>LinearRegression()</pre><b>In a Jupyter environment, please rerun this cell to show the HTML representation or trust the notebook. <br />On GitHub, the HTML representation is unable to render, please try loading this page with nbviewer.org.</b></div><div class=\"sk-container\" hidden><div class=\"sk-item\"><div class=\"sk-estimator sk-toggleable\"><input class=\"sk-toggleable__control sk-hidden--visually\" id=\"sk-estimator-id-1\" type=\"checkbox\" checked><label for=\"sk-estimator-id-1\" class=\"sk-toggleable__label sk-toggleable__label-arrow\">LinearRegression</label><div class=\"sk-toggleable__content\"><pre>LinearRegression()</pre></div></div></div></div></div>"
      ],
      "text/plain": [
       "LinearRegression()"
      ]
     },
     "execution_count": 53,
     "metadata": {},
     "output_type": "execute_result"
    }
   ],
   "source": [
    "# ANSWER\n",
    "# Fitting the model with training data\n",
    "lireg.fit(X_train, y_train)"
   ]
  },
  {
   "cell_type": "code",
   "execution_count": 54,
   "metadata": {
    "id": "rT5Qvx_pXWvi",
    "tags": []
   },
   "outputs": [
    {
     "data": {
      "text/plain": [
       "0.19174123389849995"
      ]
     },
     "execution_count": 54,
     "metadata": {},
     "output_type": "execute_result"
    }
   ],
   "source": [
    "# ANSWER\n",
    "# Scoring the model with testing data\n",
    "lireg.score(X_test, y_test)"
   ]
  },
  {
   "cell_type": "markdown",
   "metadata": {
    "id": "wSAtgNXXXWvk"
   },
   "source": [
    "### 4. Predict House Price\n",
    "\n",
    "Let's assume we have information of following house:\n",
    "\n",
    "- street:\t1140 EDMONTON DR\n",
    "- city:\tSACRAMENTO\n",
    "- zip:\t95833\n",
    "- state:\tCA\n",
    "- beds:\t3\n",
    "- baths:\t2\n",
    "- sq__ft:\t1204\n",
    "- type:\tResidential\n",
    "\n",
    "**Predict the price of this house using linear regression model.**"
   ]
  },
  {
   "cell_type": "code",
   "execution_count": 59,
   "metadata": {
    "id": "zwMk_GoVXWvk",
    "tags": []
   },
   "outputs": [
    {
     "name": "stderr",
     "output_type": "stream",
     "text": [
      "D:\\anaconda3\\Lib\\site-packages\\sklearn\\base.py:464: UserWarning: X does not have valid feature names, but LinearRegression was fitted with feature names\n",
      "  warnings.warn(\n"
     ]
    },
    {
     "data": {
      "text/plain": [
       "array([228137.16359199])"
      ]
     },
     "execution_count": 59,
     "metadata": {},
     "output_type": "execute_result"
    }
   ],
   "source": [
    "# ANSWER\n",
    "predicted_value = lireg.predict(np.array([[1204]]))\n",
    "predicted_value"
   ]
  },
  {
   "cell_type": "markdown",
   "metadata": {
    "id": "RBKhEYCZlXTJ"
   },
   "source": [
    "#### Find the error"
   ]
  },
  {
   "cell_type": "code",
   "execution_count": 64,
   "metadata": {
    "id": "j1eXj-9zlXTK",
    "tags": []
   },
   "outputs": [
    {
     "data": {
      "text/plain": [
       "613   -134997.888965\n",
       "451    -55936.041145\n",
       "731    -28218.412476\n",
       "436    -36112.035825\n",
       "275     48362.595789\n",
       "           ...      \n",
       "292    141878.331801\n",
       "209    -72864.443919\n",
       "506     84788.700757\n",
       "49     -74922.472227\n",
       "717    -13394.421310\n",
       "Name: price, Length: 197, dtype: float64"
      ]
     },
     "execution_count": 64,
     "metadata": {},
     "output_type": "execute_result"
    }
   ],
   "source": [
    "# Predict price from X_test\n",
    "y_hat = lireg.predict(X_test)\n",
    "error = y_test - y_hat\n",
    "error"
   ]
  },
  {
   "cell_type": "code",
   "execution_count": 68,
   "metadata": {
    "tags": []
   },
   "outputs": [
    {
     "name": "stdout",
     "output_type": "stream",
     "text": [
      "Mean squared error = 16375590189.025564\n",
      "\n",
      "Root mean squared error = 127967.14495926509\n"
     ]
    }
   ],
   "source": [
    "from sklearn.metrics import mean_squared_error\n",
    "\n",
    "# Finding mean squared error\n",
    "mse = mean_squared_error(y_test, y_hat, squared = True)\n",
    "print(f'Mean squared error = {mse}')\n",
    "\n",
    "# Finding root mean squared error\n",
    "rmse = mean_squared_error(y_test, y_hat, squared = False)\n",
    "print(f'\\nRoot mean squared error = {rmse}')"
   ]
  },
  {
   "cell_type": "markdown",
   "metadata": {
    "id": "fRx7LEfql5pu"
   },
   "source": [
    "\n",
    "\n",
    "---\n",
    "\n",
    "\n",
    "\n",
    "---\n",
    "\n",
    "\n",
    "\n",
    "> > > > > > > > > © 2023 Institute of Data\n",
    "\n",
    "\n",
    "---\n",
    "\n",
    "\n",
    "\n",
    "---\n",
    "\n",
    "\n",
    "\n"
   ]
  }
 ],
 "metadata": {
  "colab": {
   "provenance": []
  },
  "kernelspec": {
   "display_name": "Python 3 (ipykernel)",
   "language": "python",
   "name": "python3"
  },
  "language_info": {
   "codemirror_mode": {
    "name": "ipython",
    "version": 3
   },
   "file_extension": ".py",
   "mimetype": "text/x-python",
   "name": "python",
   "nbconvert_exporter": "python",
   "pygments_lexer": "ipython3",
   "version": "3.11.5"
  }
 },
 "nbformat": 4,
 "nbformat_minor": 4
}
